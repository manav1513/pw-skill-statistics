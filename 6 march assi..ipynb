{
 "cells": [
  {
   "cell_type": "code",
   "execution_count": 1,
   "id": "660dccb8-0a8c-4cb8-80f5-d7ba17308c20",
   "metadata": {},
   "outputs": [],
   "source": [
    "# Q1. What is Statistics?\n",
    "# ans = Statistics is used to deal with raw data and interpret information from it. Some common statistics methods like mean, median, mode,\n",
    "# standard deviation and variance. Using these mathematical methods researchers try to solve problems and derive some analytics from the data.\n"
   ]
  },
  {
   "cell_type": "code",
   "execution_count": 4,
   "id": "76daa87d-c60b-4737-b64a-2ea950f8d24f",
   "metadata": {},
   "outputs": [],
   "source": [
    "# Q2. Define the different types of statistics and give an example of when each\n",
    "# type might be used.\n",
    "# ans =  Descriptive Statistics: It involves summarizing and describing data through\n",
    "# measures such as mean, median, mode, range, standard deviation, and variance. \n",
    "# These statistics help us understand the characteristics of the data, such as \n",
    "# its central tendency, variability, and distribution.\n",
    "\n",
    "# Example:\n",
    "# Age of Students in a classroom = [14, 14, 13, 15, 15, 16, 16, 13, 14, 17]\n",
    "\n",
    "# Avg. age of students = 147\n",
    "# Median age of students = 14\n",
    "# Mode age of students = 14\n",
    "\n",
    "# Inferential statistics: It involves making predictions or drawing conclusions\n",
    "# about a population based on a sample of data. This type of statistics uses \n",
    "# probability theory to estimate the likelihood that a particular conclusion is\n",
    "# true.\n",
    "\n",
    "# Example: A drug test on a sample of population of different age groups in this\n",
    "# method inferential statistics works.\n",
    "\n",
    "# Summarizing in table below:\n",
    "\n",
    "# Type of Statistics\tDefinition\tExample\n",
    "# Descriptive statistics\tSummarizing and describing data through measures such \n",
    "# as mean, median, mode, range, standard deviation, and variance.\tA researcher\n",
    "# studying the distribution of ages in a population uses descriptive statistics \n",
    "# to calculate the mean, median, and standard deviation of a sample of ages.\n",
    "# Inferential statistics\tMaking predictions or drawing conclusions about a \n",
    "# population based on a sample of data, using probability theory to estimate the\n",
    "# likelihood that a particular conclusion is true.\tA pharmaceutical company\n",
    "# tests the effectiveness of a new drug using inferential statistics to determine\n",
    "# whether the drug has a significant effect compared to a placebo."
   ]
  },
  {
   "cell_type": "code",
   "execution_count": 6,
   "id": "268c50bd-0a38-4355-9c4b-e03b953cf36a",
   "metadata": {},
   "outputs": [],
   "source": [
    "# Q3. What are the different types of data and how do they differ from each other? Provide an example of each type of data.\n",
    "# ans = Quantitative Data: It consist of numerical measurements.\n",
    "# Nominal Data\n",
    "# Ordinal Data\n",
    "# Qualitative Data: It consist of descriptive or categorical information.\n",
    "# Discrete Data\n",
    "# Continuous Data\n",
    "# Type of Data\tDefinition\tExamples\n",
    "# Qualitative/Nominal\tDescriptive or categorical information that cannot be \n",
    "# ranked or ordered.\tGender, Car Manufacturer, Cuisine\n",
    "# Qualitative/Ordinal\tDescriptive or categorical information that can be ranked\n",
    "# or ordered, but the intervals between categories are not necessarily equal.\t\n",
    "# Education level, socioeconomic status,Clothing Sizes(S,M,L,XL).\n",
    "# Quantitative/Discrete\tNumerical values that can only take on specific values,\n",
    "# typically integers.\tNumber of children in a family, number of cars in a \n",
    "# household.\n",
    "# Quantitative/Continuous\tNumerical values that can take on any value within a\n",
    "# range.\tLength, Temperature, Humidity, Time"
   ]
  },
  {
   "cell_type": "code",
   "execution_count": 8,
   "id": "df435a7d-5b76-4a9b-b69f-a1e3248b46f0",
   "metadata": {},
   "outputs": [],
   "source": [
    "#Q4. Categorise the following datasets with respect to quantitative and qualitative data types:\n",
    "# ans = Grading in exam: A+, A, B+, B, C+, C, D, E\n",
    "# Color of mangoes: yellow, green, orange, red\n",
    "# Height data of a class: [178.9, 179, 179.5, 176, 177.2, 178.3, 175.8,...]\n",
    "# Number of mangoes exported by a farm: [500, 600, 478, 672, ...]\n",
    "# 1. Grading in exam: A+, A, B+, B, C+, C, D, E.\n",
    "# This is a Qualitative Ordinal Variable where A+ is highest and E is lowest rank.\n",
    "\n",
    "# 2. Color of mangoes: yellow, green, orange, red.\n",
    "# This is a Qualitative Nominal Variable because colors cannot have a rank.\n",
    "\n",
    "# 3. Height data of a class: [178.9, 179, 179.5, 176, 177.2, 178.3, 175.8,...].\n",
    "# This is a Quantitative Continuous Variable because measurements are decimal values.\n",
    "\n",
    "# 4. Number of mangoes exported by a farm: [500, 600, 478, 672, ...].\n",
    "# This is a Quantitative Discrete Variable because mongoes cannot be in\n",
    "# fraction or in decimal, it always be a integer value."
   ]
  },
  {
   "cell_type": "code",
   "execution_count": 9,
   "id": "43fc666d-8fbd-4c38-9645-c41895510c69",
   "metadata": {},
   "outputs": [],
   "source": [
    "# Q5. Explain the concept of levels of measurement and give an example of a variable for each level.\n",
    "# The concept of levels of measurement, also known as scales of measurement, refers to the different ways in which data can be classified based on the type and properties of the variable being measured. There are four commonly recognized levels of measurement: nominal, ordinal, interval, and ratio.\n",
    "\n",
    "# ans = Level of measurement\tDefinition\tExample variables\n",
    "# Nominal\tCategorical variables with no inherent order or numerical value.\t\n",
    "# Country of origin, favorite color, political affiliation.\n",
    "# Ordinal\tCategorical variables with a specific order or rank, but unequal or \n",
    "# non-meaningful differences between categories.\tLikert scale responses\n",
    "# (strongly disagree, disagree, neutral, agree, strongly agree), stage of cancer (stage I, stage II, stage III, stage IV).\n",
    "# Interval\tNumerical variables with a specific order and equal intervals\n",
    "# between values, but no true zero point.\tTemperature (Celsius or Fahrenheit),\n",
    "# Standardized test scores (SAT, ACT), credit scores, calendar years.\n",
    "# Ratio\tNumerical variables with a specific order, equal intervals between\n",
    "# values, and a true zero point."
   ]
  },
  {
   "cell_type": "code",
   "execution_count": 10,
   "id": "82271334-db03-4f3e-963d-bf89e541a83f",
   "metadata": {},
   "outputs": [],
   "source": [
    "# Q6. Why is it important to understand the level of measurement when analyzing data? Provide an example to illustrate your answer.\n",
    "# ▶️ Understanding the level of measurement of a variable is important because it determines the types of statistical analyses that can be performed and the appropriate interpretation of the results. In other words, the level of measurement helps researchers to identify the appropriate statistical procedures and tests to use when analyzing data. Using the wrong statistical procedure for a given level of measurement can result in misleading or inaccurate conclusions.\n",
    "\n",
    "# For example, let's consider a study that examines the relationship between \n",
    "# income and job satisfaction among employees in a company. The income variable\n",
    "# is a ratio-level variable because it has a true zero point (no income) and\n",
    "# equal intervals between values. In contrast, job satisfaction is an ordinal-\n",
    "# level variable because it has a specific order or rank, but unequal or non-meaningful differences between categories.\n",
    "# If the researcher were to use a correlation analysis to examine the relationship\n",
    "# between these two variables, the result would be incorrect because correlation is only appropriate for ratio-level variables.\n",
    "# Instead, a more appropriate statistical test for analyzing the relationship\n",
    "# between a ratio-level and ordinal-level variable would be a chi-squared test\n",
    "# or a t-test."
   ]
  },
  {
   "cell_type": "code",
   "execution_count": 11,
   "id": "0f4a8a6d-7c0f-4c63-9c7b-06a8488c1427",
   "metadata": {},
   "outputs": [],
   "source": [
    "# Q7. How nominal data type is different from ordinal data type.\n",
    "# ▶️ Nominal data consists of categories that are mutually exclusive and do not have any inherent order or ranking.\n",
    "\n",
    "# Example:\n",
    "# Gender [male, female].\n",
    "# Hair Color [blonde, brunette, red].\n",
    "# Marital Status [single, married, divorced].\n",
    "\n",
    "# ▶️ Ordinal data refers to data that has an inherent order or ranking, but the\n",
    "# differences between categories may not be equal or meaningful.\n",
    "\n",
    "# Example:\n",
    "# Educational level [elementary school, high school, college].\n",
    "# Level of Agreement [strongly disagree, disagree, neutral, agree, strongly \n",
    "#                     agree].\n",
    "# Rating Scales [poor, fair, good, excellent]"
   ]
  },
  {
   "cell_type": "code",
   "execution_count": 12,
   "id": "1fe49d08-37f4-4d06-a1eb-713df0d1f60f",
   "metadata": {},
   "outputs": [],
   "source": [
    "# Q8. Which type of plot can be used to display data in terms of range?\n",
    "# Box plot is used to display data in terms of range. It show 5-number summary which are Minimum Value, 25th percentile Value, Middle Value, 75th percentile Value, Maximum Value.\n",
    "# Box plots are particularly useful for comparing the range and distribution of \n",
    "# different groups of data, as multiple box plots can be displayed side by side\n",
    "# for comparison. They are also useful for identifying outliers, which are values\n",
    "# that fall outside the minimum or maximum range of the dataset."
   ]
  },
  {
   "cell_type": "code",
   "execution_count": 13,
   "id": "6794820f-185e-4b6d-a629-78630d92987d",
   "metadata": {},
   "outputs": [],
   "source": [
    "# Q9. Describe the difference between descriptive and inferential statistics.\n",
    "# ans = Give an example of each type of statistics and explain how they are used.\n",
    "# Type of Statistics\tDefinition\tExample\n",
    "# Descriptive Statistics\tSummarizes and describes the basic features of a\n",
    "# dataset.\tMean, Median, Mode, Range, Standard Deviation, Histogram, Bar \n",
    "# chart.\n",
    "# Inferential Statistics\tUsed to make inferences or draw conclusions about a \n",
    "# larger population based on a smaller sample of data."
   ]
  },
  {
   "cell_type": "code",
   "execution_count": 14,
   "id": "86495916-e378-4b2e-9e35-bc6ca458a8ff",
   "metadata": {},
   "outputs": [],
   "source": [
    "# Q10. What are some common measures of central tendency and variability used in statistics? Explain how each measure can be used to describe a dataset.\n",
    "# Measure\tDefinition\tMathematical Formula\n",
    "# Central Tendency\t\t\n",
    "# Mean\tArithmetic average of a set of values\t\n",
    " \n",
    "# Median\tMiddle value in a dataset when it is ordered from smallest to largest\t\n",
    "# Mode\tMost common value in a dataset\t\n",
    "# Variability\t\t\n",
    "# Range\tDifference between the largest and smallest values in a dataset\t\n",
    "# Variance\tAverage of the squared differences from the mean\t\n",
    " \n",
    "# Standard Deviation\tSquare root of the variance\t\n",
    " \n",
    "# The use of \n",
    "#  instead of \n",
    "#  in the variance and standard deviation formulae is known as Bessel's \n",
    "# correction, which is used to adjust for the fact that the sample variance \n",
    "# tends to underestimate the true variance of the population."
   ]
  },
  {
   "cell_type": "code",
   "execution_count": null,
   "id": "6fc01959-f73d-4918-92d1-c7861fb5887a",
   "metadata": {},
   "outputs": [],
   "source": []
  }
 ],
 "metadata": {
  "kernelspec": {
   "display_name": "Python 3 (ipykernel)",
   "language": "python",
   "name": "python3"
  },
  "language_info": {
   "codemirror_mode": {
    "name": "ipython",
    "version": 3
   },
   "file_extension": ".py",
   "mimetype": "text/x-python",
   "name": "python",
   "nbconvert_exporter": "python",
   "pygments_lexer": "ipython3",
   "version": "3.10.8"
  }
 },
 "nbformat": 4,
 "nbformat_minor": 5
}
